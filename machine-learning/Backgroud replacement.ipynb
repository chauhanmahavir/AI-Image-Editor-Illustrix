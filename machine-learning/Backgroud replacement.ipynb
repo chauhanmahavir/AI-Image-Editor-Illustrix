{
 "cells": [
  {
   "cell_type": "code",
   "execution_count": null,
   "id": "98612ccf",
   "metadata": {},
   "outputs": [],
   "source": [
    "import cv2"
   ]
  },
  {
   "cell_type": "code",
   "execution_count": null,
   "id": "e05fcc93",
   "metadata": {},
   "outputs": [],
   "source": [
    "background = cv2.imread('Snow_man.jpg')\n",
    "foreground = cv2.imread(\"E:\\College\\Term2\\AI ML Lab\\RamBG Data\\Outputs\\Screenshot 2023-07-12 110132.png.png\")"
   ]
  },
  {
   "cell_type": "code",
   "execution_count": null,
   "id": "f87e337a",
   "metadata": {},
   "outputs": [],
   "source": [
    "import matplotlib.pyplot as plt\n",
    "import matplotlib.image as mpimg\n",
    "\n",
    "# Load the image\n",
    "def imshow2(image, read=False):\n",
    "    if read:\n",
    "        image = mpimg.imread(image)\n",
    "\n",
    "    # Display the image\n",
    "    plt.imshow(image)\n",
    "    plt.axis('off')  # Remove the axes\n",
    "    plt.show()\n"
   ]
  },
  {
   "cell_type": "code",
   "execution_count": null,
   "id": "4dad06d2",
   "metadata": {},
   "outputs": [],
   "source": [
    "def change_background(foreground, background, file_name):\n",
    "    background = cv2.resize(background, (foreground.shape[1], foreground.shape[0]))\n",
    "    \n",
    "    fore_gray = cv2.cvtColor(foreground, cv2.COLOR_BGR2GRAY)\n",
    "    \n",
    "    # Threshold the foreground image to create a binary mask\n",
    "\n",
    "    _, binary_mask = cv2.threshold(fore_gray, 1, 255, cv2.THRESH_BINARY)\n",
    "    \n",
    "    # Create a new image filled with the background color\n",
    "    new_image = background.copy()\n",
    "    \n",
    "    new_image[binary_mask > 0] = foreground[binary_mask>0]\n",
    "    \n",
    "    save_path = f'./BR Outputs/{file_name}.png'\n",
    "    \n",
    "    cv2.imwrite(save_path, new_image)\n",
    "    \n",
    "    return save_path"
   ]
  },
  {
   "cell_type": "code",
   "execution_count": null,
   "id": "7a5dfaa5",
   "metadata": {},
   "outputs": [],
   "source": [
    "new_img_path = change_background(foreground, background, 'Trial_2')"
   ]
  },
  {
   "cell_type": "code",
   "execution_count": null,
   "id": "bf175afe",
   "metadata": {},
   "outputs": [],
   "source": [
    "imshow2(new_img_path, True)"
   ]
  },
  {
   "cell_type": "code",
   "execution_count": null,
   "id": "e72e153f",
   "metadata": {},
   "outputs": [],
   "source": []
  },
  {
   "cell_type": "code",
   "execution_count": null,
   "id": "d8a3afa1",
   "metadata": {},
   "outputs": [],
   "source": [
    "# from PIL import Image\n",
    "\n",
    "# def imshow(img_name):\n",
    "#     image = Image.open(img_name)\n",
    "#     image.show()\n",
    " \n",
    "# def PILshow(img):\n",
    "#     image_pil = Image.fromarray(img)\n",
    "#     image_pil.show()"
   ]
  }
 ],
 "metadata": {
  "kernelspec": {
   "display_name": "Python 3 (ipykernel)",
   "language": "python",
   "name": "python3"
  },
  "language_info": {
   "codemirror_mode": {
    "name": "ipython",
    "version": 3
   },
   "file_extension": ".py",
   "mimetype": "text/x-python",
   "name": "python",
   "nbconvert_exporter": "python",
   "pygments_lexer": "ipython3",
   "version": "3.10.9"
  }
 },
 "nbformat": 4,
 "nbformat_minor": 5
}
